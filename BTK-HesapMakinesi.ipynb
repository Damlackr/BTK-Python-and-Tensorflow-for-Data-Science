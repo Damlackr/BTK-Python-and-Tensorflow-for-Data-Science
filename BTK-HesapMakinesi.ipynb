{
 "cells": [
  {
   "cell_type": "code",
   "execution_count": null,
   "metadata": {},
   "outputs": [],
   "source": [
    "def hesapla(a,b,islem):\n",
    "    \n",
    "    if islem == \"+\":\n",
    "        return (str(a)+ \" + \"+str(b) + \" = \" + str(a+b)) \n",
    "    if islem == \"-\":\n",
    "        return (str(a)+ \" - \"+str(b) + \" = \" + str(a-b)) \n",
    "    if islem == \"*\":\n",
    "        return (str(a)+ \" * \"+str(b) + \" = \" + str(a*b)) \n",
    "    if islem == \"/\":\n",
    "        return (str(a)+ \" / \"+str(b) + \" = \" + str(a/b))\n",
    "    \n",
    "a = int(input(\"ilk rakamı giriniz:\"))\n",
    "b = int(input (\"ikinci sayıyı giriniz:\"))\n",
    "islem = input(\"işleminizi seçiniz:+-*/\")\n",
    "hesapla(a,b,islem)\n",
    "     "
   ]
  },
  {
   "cell_type": "markdown",
   "metadata": {},
   "source": [
    "- Basit bir şekilde programı ilk önce yazdık.\n"
   ]
  },
  {
   "cell_type": "code",
   "execution_count": null,
   "metadata": {},
   "outputs": [
    {
     "name": "stdout",
     "output_type": "stream",
     "text": [
      "ilk rakamı giriniz:10\n",
      "ikinci sayıyı giriniz:20\n",
      "işleminizi seçiniz:+-*/*\n",
      "10 * 20 = 200\n"
     ]
    }
   ],
   "source": [
    "def hesapla(a,b,islem):\n",
    "    \n",
    "    if islem == \"+\":\n",
    "        return (str(a)+ \" + \"+str(b) + \" = \" + str(a+b)) \n",
    "    if islem == \"-\":\n",
    "        return (str(a)+ \" - \"+str(b) + \" = \" + str(a-b)) \n",
    "    if islem == \"*\":\n",
    "        return (str(a)+ \" * \"+str(b) + \" = \" + str(a*b)) \n",
    "    if islem == \"/\":\n",
    "        return (str(a)+ \" / \"+str(b) + \" = \" + str(a/b))\n",
    "\n",
    "while True:\n",
    "    \n",
    " a = int(input(\"ilk rakamı giriniz:\"))\n",
    " b = int(input (\"ikinci sayıyı giriniz:\"))\n",
    " islem = input(\"işleminizi seçiniz:+-*/\")\n",
    " print(hesapla(a,b,islem))\n",
    "     "
   ]
  },
  {
   "cell_type": "markdown",
   "metadata": {},
   "source": [
    "- Programın sürekli çalışması için while true satırını ekledik."
   ]
  },
  {
   "cell_type": "code",
   "execution_count": null,
   "metadata": {
    "scrolled": true
   },
   "outputs": [
    {
     "name": "stdout",
     "output_type": "stream",
     "text": [
      "ilk rakamı giriniz:10\n",
      "ikinci sayıyı giriniz:20\n",
      "işleminizi seçiniz:+-*/damla\n",
      "Lütfen şu işlemlerden birini seçiniz: +-*/\n"
     ]
    }
   ],
   "source": [
    "def hesapla(a,b,islem):\n",
    "    \n",
    "    if islem not in \"+-*/\":\n",
    "        return \"Lütfen şu işlemlerden birini seçiniz: +-*/\"\n",
    "        \n",
    "        \n",
    "    if islem == \"+\":\n",
    "        return (str(a)+ \" + \"+str(b) + \" = \" + str(a+b)) \n",
    "    if islem == \"-\":\n",
    "        return (str(a)+ \" - \"+str(b) + \" = \" + str(a-b)) \n",
    "    if islem == \"*\":\n",
    "        return (str(a)+ \" * \"+str(b) + \" = \" + str(a*b)) \n",
    "    if islem == \"/\":\n",
    "        return (str(a)+ \" / \"+str(b) + \" = \" + str(a/b))\n",
    "\n",
    "while True:\n",
    "    \n",
    "    a = int(input(\"ilk rakamı giriniz:\"))\n",
    "    b = int(input (\"ikinci sayıyı giriniz:\"))\n",
    "    islem = input(\"işleminizi seçiniz:+-*/\")\n",
    "    print(hesapla(a,b,islem))"
   ]
  },
  {
   "cell_type": "markdown",
   "metadata": {},
   "source": [
    "- işlemleri seçerken doğru bir şekilde sadece istenen işlemlerden birisinin olmasını istediğimiz için bunun uyarısını ekledik."
   ]
  },
  {
   "cell_type": "code",
   "execution_count": null,
   "metadata": {},
   "outputs": [
    {
     "name": "stdout",
     "output_type": "stream",
     "text": [
      "ilk rakamı giriniz:damla\n",
      "lütfen sayıları düzgün giriniz\n"
     ]
    }
   ],
   "source": [
    "def hesapla(a,b,islem):\n",
    "    \n",
    "    if islem not in \"+-*/\":\n",
    "        return \"Lütfen şu işlemlerden birini seçiniz: +-*/\"\n",
    "        \n",
    "        \n",
    "    if islem == \"+\":\n",
    "        return (str(a)+ \" + \"+str(b) + \" = \" + str(a+b)) \n",
    "    if islem == \"-\":\n",
    "        return (str(a)+ \" - \"+str(b) + \" = \" + str(a-b)) \n",
    "    if islem == \"*\":\n",
    "        return (str(a)+ \" * \"+str(b) + \" = \" + str(a*b)) \n",
    "    if islem == \"/\":\n",
    "        return (str(a)+ \" / \"+str(b) + \" = \" + str(a/b))\n",
    "\n",
    "while True:\n",
    "    try:\n",
    "    \n",
    "        a = int(input(\"ilk rakamı giriniz:\"))\n",
    "        b = int(input (\"ikinci sayıyı giriniz:\"))\n",
    "        islem = input(\"işleminizi seçiniz:+-*/\")\n",
    "        print(hesapla(a,b,islem))\n",
    "    except:\n",
    "        print(\"lütfen sayıları düzgün giriniz\")"
   ]
  },
  {
   "cell_type": "markdown",
   "metadata": {},
   "source": [
    "- rakamların yerine rakam girebilmemiz için uyarı ekledik. string girince uyarıyor."
   ]
  }
 ],
 "metadata": {
  "kernelspec": {
   "display_name": "Python 3",
   "language": "python",
   "name": "python3"
  },
  "language_info": {
   "codemirror_mode": {
    "name": "ipython",
    "version": 3
   },
   "file_extension": ".py",
   "mimetype": "text/x-python",
   "name": "python",
   "nbconvert_exporter": "python",
   "pygments_lexer": "ipython3",
   "version": "3.8.5"
  }
 },
 "nbformat": 4,
 "nbformat_minor": 4
}
